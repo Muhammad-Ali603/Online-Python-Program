{
 "cells": [
  {
   "cell_type": "code",
   "execution_count": 1,
   "id": "d7f45509",
   "metadata": {},
   "outputs": [
    {
     "name": "stdout",
     "output_type": "stream",
     "text": [
      "Twinkle, twinkle, little star,\n",
      "         How I wonder what you are!\n",
      "                 Up above the world so high,\n",
      "                 Like a diamond in the sky.\n",
      "Twinkle, twinkle, little star,\n",
      "         How I wonder what you are!\n"
     ]
    }
   ],
   "source": [
    "print(\"Twinkle, twinkle, little star,\");\n",
    "print(\"         How I wonder what you are!\");\n",
    "print(\"                 Up above the world so high,\");\n",
    "print(\"                 Like a diamond in the sky.\");\n",
    "print(\"Twinkle, twinkle, little star,\");\n",
    "print(\"         How I wonder what you are!\");"
   ]
  },
  {
   "cell_type": "code",
   "execution_count": 3,
   "id": "fc763352",
   "metadata": {},
   "outputs": [
    {
     "name": "stdout",
     "output_type": "stream",
     "text": [
      "Enter Python Version:3.6\n",
      "3.6\n"
     ]
    }
   ],
   "source": [
    "python_version=input(\"Enter Python Version:\");\n",
    "print(python_version);"
   ]
  },
  {
   "cell_type": "code",
   "execution_count": 4,
   "id": "4de7ba02",
   "metadata": {},
   "outputs": [
    {
     "name": "stdout",
     "output_type": "stream",
     "text": [
      "Current Date:02-01-2022\n",
      "Current Time:12:20\n",
      "02-01-2022\n",
      "12:20\n"
     ]
    }
   ],
   "source": [
    "current_date=input(\"Current Date:\");\n",
    "current_time=input(\"Current Time:\");\n",
    "print(current_date);\n",
    "print(current_time);\n",
    "\n"
   ]
  },
  {
   "cell_type": "code",
   "execution_count": 2,
   "id": "dafe3be4",
   "metadata": {},
   "outputs": [
    {
     "name": "stdout",
     "output_type": "stream",
     "text": [
      "Enter radius of a circle:6\n",
      "113.14285714285714\n"
     ]
    }
   ],
   "source": [
    "radius=int(input(\"Enter radius of a circle:\"));\n",
    "area=(22/7)*(radius*radius);\n",
    "print(area);"
   ]
  },
  {
   "cell_type": "code",
   "execution_count": 7,
   "id": "5e5d524c",
   "metadata": {},
   "outputs": [
    {
     "name": "stdout",
     "output_type": "stream",
     "text": [
      "Enter First Name:Muhammad\n",
      "Enter Last Name:Ali\n",
      "Ali Muhammad\n"
     ]
    }
   ],
   "source": [
    "first_name=input(\"Enter First Name:\");\n",
    "last_name=input(\"Enter Last Name:\");\n",
    "print(last_name + \" \" + first_name);"
   ]
  },
  {
   "cell_type": "code",
   "execution_count": 3,
   "id": "2e2b5288",
   "metadata": {},
   "outputs": [
    {
     "name": "stdout",
     "output_type": "stream",
     "text": [
      "Enter First Number:2\n",
      "Enter Second Number:2\n",
      "4\n"
     ]
    }
   ],
   "source": [
    "a=int(input(\"Enter First Number:\"));\n",
    "b=int(input(\"Enter Second Number:\"));\n",
    "c=a+b;\n",
    "print(c);"
   ]
  },
  {
   "cell_type": "code",
   "execution_count": null,
   "id": "1908a822",
   "metadata": {},
   "outputs": [],
   "source": []
  }
 ],
 "metadata": {
  "kernelspec": {
   "display_name": "Python 3 (ipykernel)",
   "language": "python",
   "name": "python3"
  },
  "language_info": {
   "codemirror_mode": {
    "name": "ipython",
    "version": 3
   },
   "file_extension": ".py",
   "mimetype": "text/x-python",
   "name": "python",
   "nbconvert_exporter": "python",
   "pygments_lexer": "ipython3",
   "version": "3.9.7"
  }
 },
 "nbformat": 4,
 "nbformat_minor": 5
}
